{
  "nbformat": 4,
  "nbformat_minor": 0,
  "metadata": {
    "colab": {
      "name": "Capstone_project_merged.ipynb",
      "version": "0.3.2",
      "provenance": [],
      "collapsed_sections": [],
      "include_colab_link": true
    },
    "kernelspec": {
      "name": "python3",
      "display_name": "Python 3"
    },
    "accelerator": "TPU"
  },
  "cells": [
    {
      "cell_type": "markdown",
      "metadata": {
        "id": "view-in-github",
        "colab_type": "text"
      },
      "source": [
        "<a href=\"https://colab.research.google.com/github/moonman239/Capstone-project/blob/master/Capstone_project.ipynb\" target=\"_parent\"><img src=\"https://colab.research.google.com/assets/colab-badge.svg\" alt=\"Open In Colab\"/></a>"
      ]
    },
    {
      "metadata": {
        "id": "AoIQFdjR-Lid",
        "colab_type": "text"
      },
      "cell_type": "markdown",
      "source": [
        "## Setup"
      ]
    },
    {
      "metadata": {
        "id": "oDXUu5iW-Lij",
        "colab_type": "text"
      },
      "cell_type": "markdown",
      "source": [
        "Load Python modules."
      ]
    },
    {
      "metadata": {
        "id": "TGcmXwG--Lio",
        "colab_type": "code",
        "outputId": "5ee9e9fc-4af1-4fc0-ce96-70176d73c11d",
        "colab": {
          "base_uri": "https://localhost:8080/",
          "height": 34
        }
      },
      "cell_type": "code",
      "source": [
        "import numpy as np\n",
        "import pandas as pd\n",
        "import os\n",
        "# Verify we are using GPU.\n",
        "from tensorflow.python.client import device_lib\n",
        "import tensorflow as tf\n",
        "from tensorflow.keras.layers import Lambda,Dense,Input,LSTM,concatenate\n",
        "from tensorflow.keras import Model\n",
        "from tensorflow.keras.preprocessing.text import Tokenizer\n",
        "from tensorflow.keras.callbacks import ModelCheckpoint\n",
        "import sys\n",
        "assert sys.version_info[0] >= 3\n",
        "print(\"Set up!\")"
      ],
      "execution_count": 1,
      "outputs": [
        {
          "output_type": "stream",
          "text": [
            "Set up!\n"
          ],
          "name": "stdout"
        }
      ]
    },
    {
      "metadata": {
        "id": "vXFuFons-LjA",
        "colab_type": "text"
      },
      "cell_type": "markdown",
      "source": [
        "## Preprocessing"
      ]
    },
    {
      "metadata": {
        "id": "yqjrxOes-LjD",
        "colab_type": "text"
      },
      "cell_type": "markdown",
      "source": [
        "For the preprocessing step, we will create two dictionaries. One will be used to map questions to articles, while the other will be used to map questions and the contents of the articles to the answers."
      ]
    },
    {
      "metadata": {
        "id": "B8UbZDe--LjG",
        "colab_type": "text"
      },
      "cell_type": "markdown",
      "source": [
        "### Loading JSON datasets"
      ]
    },
    {
      "metadata": {
        "id": "I79-hb5dCBfy",
        "colab_type": "code",
        "outputId": "df6127ad-068c-4ccd-d9a3-c3ce0f2c7edf",
        "colab": {
          "base_uri": "https://localhost:8080/",
          "height": 34
        }
      },
      "cell_type": "code",
      "source": [
        "from google.colab import drive\n",
        "driveBase = os.path.join(os.path.dirname(os.path.abspath(\"train-v1.1.json\")),\"drive\")\n",
        "drive.mount(driveBase)\n",
        "hardDrive = os.path.join(driveBase,\"My Drive\")"
      ],
      "execution_count": 2,
      "outputs": [
        {
          "output_type": "stream",
          "text": [
            "Drive already mounted at /content/drive; to attempt to forcibly remount, call drive.mount(\"/content/drive\", force_remount=True).\n"
          ],
          "name": "stdout"
        }
      ]
    },
    {
      "metadata": {
        "id": "8fgU382EF26d",
        "colab_type": "code",
        "colab": {}
      },
      "cell_type": "code",
      "source": [
        "import json\n",
        "def readFile(filename):\n",
        "  with open(os.path.join(hardDrive,filename)) as file:\n",
        "    fields = []\n",
        "    JSON = json.loads(file.read())\n",
        "    for article in JSON[\"data\"]:\n",
        "      articleTitle = article[\"title\"]\n",
        "      for paragraph in article[\"paragraphs\"]:\n",
        "        paragraphContext = paragraph[\"context\"]\n",
        "        for qas in paragraph[\"qas\"]:\n",
        "          question = qas[\"question\"]\n",
        "          for answer in qas[\"answers\"]:\n",
        "            fields.append({\"question\":question,\"answer_text\":answer[\"text\"],\"answer_start\":answer[\"answer_start\"],\"paragraph_context\":paragraphContext,\"article_title\":articleTitle})\n",
        "  return pd.DataFrame(fields)"
      ],
      "execution_count": 0,
      "outputs": []
    },
    {
      "metadata": {
        "id": "H1Ql0r8fOpCB",
        "colab_type": "code",
        "outputId": "2bfc8951-3f81-4bc7-fccf-939f3dffa450",
        "colab": {
          "base_uri": "https://localhost:8080/",
          "height": 2989
        }
      },
      "cell_type": "code",
      "source": [
        "trainingData = readFile(\"train-v1.1.json\")\n",
        "trainingData"
      ],
      "execution_count": 4,
      "outputs": [
        {
          "output_type": "execute_result",
          "data": {
            "text/html": [
              "<div>\n",
              "<style scoped>\n",
              "    .dataframe tbody tr th:only-of-type {\n",
              "        vertical-align: middle;\n",
              "    }\n",
              "\n",
              "    .dataframe tbody tr th {\n",
              "        vertical-align: top;\n",
              "    }\n",
              "\n",
              "    .dataframe thead th {\n",
              "        text-align: right;\n",
              "    }\n",
              "</style>\n",
              "<table border=\"1\" class=\"dataframe\">\n",
              "  <thead>\n",
              "    <tr style=\"text-align: right;\">\n",
              "      <th></th>\n",
              "      <th>answer_start</th>\n",
              "      <th>answer_text</th>\n",
              "      <th>article_title</th>\n",
              "      <th>paragraph_context</th>\n",
              "      <th>question</th>\n",
              "    </tr>\n",
              "  </thead>\n",
              "  <tbody>\n",
              "    <tr>\n",
              "      <th>0</th>\n",
              "      <td>515</td>\n",
              "      <td>Saint Bernadette Soubirous</td>\n",
              "      <td>University_of_Notre_Dame</td>\n",
              "      <td>Architecturally, the school has a Catholic cha...</td>\n",
              "      <td>To whom did the Virgin Mary allegedly appear i...</td>\n",
              "    </tr>\n",
              "    <tr>\n",
              "      <th>1</th>\n",
              "      <td>188</td>\n",
              "      <td>a copper statue of Christ</td>\n",
              "      <td>University_of_Notre_Dame</td>\n",
              "      <td>Architecturally, the school has a Catholic cha...</td>\n",
              "      <td>What is in front of the Notre Dame Main Building?</td>\n",
              "    </tr>\n",
              "    <tr>\n",
              "      <th>2</th>\n",
              "      <td>279</td>\n",
              "      <td>the Main Building</td>\n",
              "      <td>University_of_Notre_Dame</td>\n",
              "      <td>Architecturally, the school has a Catholic cha...</td>\n",
              "      <td>The Basilica of the Sacred heart at Notre Dame...</td>\n",
              "    </tr>\n",
              "    <tr>\n",
              "      <th>3</th>\n",
              "      <td>381</td>\n",
              "      <td>a Marian place of prayer and reflection</td>\n",
              "      <td>University_of_Notre_Dame</td>\n",
              "      <td>Architecturally, the school has a Catholic cha...</td>\n",
              "      <td>What is the Grotto at Notre Dame?</td>\n",
              "    </tr>\n",
              "    <tr>\n",
              "      <th>4</th>\n",
              "      <td>92</td>\n",
              "      <td>a golden statue of the Virgin Mary</td>\n",
              "      <td>University_of_Notre_Dame</td>\n",
              "      <td>Architecturally, the school has a Catholic cha...</td>\n",
              "      <td>What sits on top of the Main Building at Notre...</td>\n",
              "    </tr>\n",
              "    <tr>\n",
              "      <th>5</th>\n",
              "      <td>248</td>\n",
              "      <td>September 1876</td>\n",
              "      <td>University_of_Notre_Dame</td>\n",
              "      <td>As at most other universities, Notre Dame's st...</td>\n",
              "      <td>When did the Scholastic Magazine of Notre dame...</td>\n",
              "    </tr>\n",
              "    <tr>\n",
              "      <th>6</th>\n",
              "      <td>441</td>\n",
              "      <td>twice</td>\n",
              "      <td>University_of_Notre_Dame</td>\n",
              "      <td>As at most other universities, Notre Dame's st...</td>\n",
              "      <td>How often is Notre Dame's the Juggler published?</td>\n",
              "    </tr>\n",
              "    <tr>\n",
              "      <th>7</th>\n",
              "      <td>598</td>\n",
              "      <td>The Observer</td>\n",
              "      <td>University_of_Notre_Dame</td>\n",
              "      <td>As at most other universities, Notre Dame's st...</td>\n",
              "      <td>What is the daily student paper at Notre Dame ...</td>\n",
              "    </tr>\n",
              "    <tr>\n",
              "      <th>8</th>\n",
              "      <td>126</td>\n",
              "      <td>three</td>\n",
              "      <td>University_of_Notre_Dame</td>\n",
              "      <td>As at most other universities, Notre Dame's st...</td>\n",
              "      <td>How many student news papers are found at Notr...</td>\n",
              "    </tr>\n",
              "    <tr>\n",
              "      <th>9</th>\n",
              "      <td>908</td>\n",
              "      <td>1987</td>\n",
              "      <td>University_of_Notre_Dame</td>\n",
              "      <td>As at most other universities, Notre Dame's st...</td>\n",
              "      <td>In what year did the student paper Common Sens...</td>\n",
              "    </tr>\n",
              "    <tr>\n",
              "      <th>10</th>\n",
              "      <td>119</td>\n",
              "      <td>Rome</td>\n",
              "      <td>University_of_Notre_Dame</td>\n",
              "      <td>The university is the major seat of the Congre...</td>\n",
              "      <td>Where is the headquarters of the Congregation ...</td>\n",
              "    </tr>\n",
              "    <tr>\n",
              "      <th>11</th>\n",
              "      <td>145</td>\n",
              "      <td>Moreau Seminary</td>\n",
              "      <td>University_of_Notre_Dame</td>\n",
              "      <td>The university is the major seat of the Congre...</td>\n",
              "      <td>What is the primary seminary of the Congregati...</td>\n",
              "    </tr>\n",
              "    <tr>\n",
              "      <th>12</th>\n",
              "      <td>234</td>\n",
              "      <td>Old College</td>\n",
              "      <td>University_of_Notre_Dame</td>\n",
              "      <td>The university is the major seat of the Congre...</td>\n",
              "      <td>What is the oldest structure at Notre Dame?</td>\n",
              "    </tr>\n",
              "    <tr>\n",
              "      <th>13</th>\n",
              "      <td>356</td>\n",
              "      <td>Retired priests and brothers</td>\n",
              "      <td>University_of_Notre_Dame</td>\n",
              "      <td>The university is the major seat of the Congre...</td>\n",
              "      <td>What individuals live at Fatima House at Notre...</td>\n",
              "    </tr>\n",
              "    <tr>\n",
              "      <th>14</th>\n",
              "      <td>675</td>\n",
              "      <td>Buechner Prize for Preaching</td>\n",
              "      <td>University_of_Notre_Dame</td>\n",
              "      <td>The university is the major seat of the Congre...</td>\n",
              "      <td>Which prize did Frederick Buechner create?</td>\n",
              "    </tr>\n",
              "    <tr>\n",
              "      <th>15</th>\n",
              "      <td>487</td>\n",
              "      <td>eight</td>\n",
              "      <td>University_of_Notre_Dame</td>\n",
              "      <td>The College of Engineering was established in ...</td>\n",
              "      <td>How many BS level degrees are offered in the C...</td>\n",
              "    </tr>\n",
              "    <tr>\n",
              "      <th>16</th>\n",
              "      <td>46</td>\n",
              "      <td>1920</td>\n",
              "      <td>University_of_Notre_Dame</td>\n",
              "      <td>The College of Engineering was established in ...</td>\n",
              "      <td>In what year was the College of Engineering at...</td>\n",
              "    </tr>\n",
              "    <tr>\n",
              "      <th>17</th>\n",
              "      <td>126</td>\n",
              "      <td>the College of Science</td>\n",
              "      <td>University_of_Notre_Dame</td>\n",
              "      <td>The College of Engineering was established in ...</td>\n",
              "      <td>Before the creation of the College of Engineer...</td>\n",
              "    </tr>\n",
              "    <tr>\n",
              "      <th>18</th>\n",
              "      <td>271</td>\n",
              "      <td>five</td>\n",
              "      <td>University_of_Notre_Dame</td>\n",
              "      <td>The College of Engineering was established in ...</td>\n",
              "      <td>How many departments are within the Stinson-Re...</td>\n",
              "    </tr>\n",
              "    <tr>\n",
              "      <th>19</th>\n",
              "      <td>155</td>\n",
              "      <td>the 1870s</td>\n",
              "      <td>University_of_Notre_Dame</td>\n",
              "      <td>The College of Engineering was established in ...</td>\n",
              "      <td>The College of Science began to offer civil en...</td>\n",
              "    </tr>\n",
              "    <tr>\n",
              "      <th>20</th>\n",
              "      <td>496</td>\n",
              "      <td>Learning Resource Center</td>\n",
              "      <td>University_of_Notre_Dame</td>\n",
              "      <td>All of Notre Dame's undergraduate students are...</td>\n",
              "      <td>What entity provides help with the management ...</td>\n",
              "    </tr>\n",
              "    <tr>\n",
              "      <th>21</th>\n",
              "      <td>68</td>\n",
              "      <td>five</td>\n",
              "      <td>University_of_Notre_Dame</td>\n",
              "      <td>All of Notre Dame's undergraduate students are...</td>\n",
              "      <td>How many colleges for undergraduates are at No...</td>\n",
              "    </tr>\n",
              "    <tr>\n",
              "      <th>22</th>\n",
              "      <td>155</td>\n",
              "      <td>The First Year of Studies program</td>\n",
              "      <td>University_of_Notre_Dame</td>\n",
              "      <td>All of Notre Dame's undergraduate students are...</td>\n",
              "      <td>What was created at Notre Dame in 1962 to assi...</td>\n",
              "    </tr>\n",
              "    <tr>\n",
              "      <th>23</th>\n",
              "      <td>647</td>\n",
              "      <td>U.S. News &amp; World Report</td>\n",
              "      <td>University_of_Notre_Dame</td>\n",
              "      <td>All of Notre Dame's undergraduate students are...</td>\n",
              "      <td>Which organization declared the First Year of ...</td>\n",
              "    </tr>\n",
              "    <tr>\n",
              "      <th>24</th>\n",
              "      <td>358</td>\n",
              "      <td>1924</td>\n",
              "      <td>University_of_Notre_Dame</td>\n",
              "      <td>The university first offered graduate degrees,...</td>\n",
              "      <td>The granting of Doctorate degrees first occurr...</td>\n",
              "    </tr>\n",
              "    <tr>\n",
              "      <th>25</th>\n",
              "      <td>624</td>\n",
              "      <td>Master of Divinity</td>\n",
              "      <td>University_of_Notre_Dame</td>\n",
              "      <td>The university first offered graduate degrees,...</td>\n",
              "      <td>What type of degree is an M.Div.?</td>\n",
              "    </tr>\n",
              "    <tr>\n",
              "      <th>26</th>\n",
              "      <td>1163</td>\n",
              "      <td>Alliance for Catholic Education</td>\n",
              "      <td>University_of_Notre_Dame</td>\n",
              "      <td>The university first offered graduate degrees,...</td>\n",
              "      <td>Which program at Notre Dame offers a Master of...</td>\n",
              "    </tr>\n",
              "    <tr>\n",
              "      <th>27</th>\n",
              "      <td>92</td>\n",
              "      <td>1854</td>\n",
              "      <td>University_of_Notre_Dame</td>\n",
              "      <td>The university first offered graduate degrees,...</td>\n",
              "      <td>In what year was a Master of Arts course first...</td>\n",
              "    </tr>\n",
              "    <tr>\n",
              "      <th>28</th>\n",
              "      <td>757</td>\n",
              "      <td>Department of Pre-Professional Studies</td>\n",
              "      <td>University_of_Notre_Dame</td>\n",
              "      <td>The university first offered graduate degrees,...</td>\n",
              "      <td>Which department at Notre Dame is the only one...</td>\n",
              "    </tr>\n",
              "    <tr>\n",
              "      <th>29</th>\n",
              "      <td>4</td>\n",
              "      <td>Joan B. Kroc Institute for International Peace...</td>\n",
              "      <td>University_of_Notre_Dame</td>\n",
              "      <td>The Joan B. Kroc Institute for International P...</td>\n",
              "      <td>What institute at Notre Dame studies  the reas...</td>\n",
              "    </tr>\n",
              "    <tr>\n",
              "      <th>...</th>\n",
              "      <td>...</td>\n",
              "      <td>...</td>\n",
              "      <td>...</td>\n",
              "      <td>...</td>\n",
              "      <td>...</td>\n",
              "    </tr>\n",
              "    <tr>\n",
              "      <th>87569</th>\n",
              "      <td>209</td>\n",
              "      <td>Gyaneshwar</td>\n",
              "      <td>Kathmandu</td>\n",
              "      <td>Sikhism is practiced primarily in Gurudwara at...</td>\n",
              "      <td>Where can a temple of the Jain faith be found?</td>\n",
              "    </tr>\n",
              "    <tr>\n",
              "      <th>87570</th>\n",
              "      <td>355</td>\n",
              "      <td>300</td>\n",
              "      <td>Kathmandu</td>\n",
              "      <td>Sikhism is practiced primarily in Gurudwara at...</td>\n",
              "      <td>Kathmandu valley is home to about how many Bah...</td>\n",
              "    </tr>\n",
              "    <tr>\n",
              "      <th>87571</th>\n",
              "      <td>427</td>\n",
              "      <td>Shantinagar, Baneshwor</td>\n",
              "      <td>Kathmandu</td>\n",
              "      <td>Sikhism is practiced primarily in Gurudwara at...</td>\n",
              "      <td>Where is the Baha'i national office located in...</td>\n",
              "    </tr>\n",
              "    <tr>\n",
              "      <th>87572</th>\n",
              "      <td>633</td>\n",
              "      <td>4.2</td>\n",
              "      <td>Kathmandu</td>\n",
              "      <td>Sikhism is practiced primarily in Gurudwara at...</td>\n",
              "      <td>About what percentage of the Nepali population...</td>\n",
              "    </tr>\n",
              "    <tr>\n",
              "      <th>87573</th>\n",
              "      <td>728</td>\n",
              "      <td>170</td>\n",
              "      <td>Kathmandu</td>\n",
              "      <td>Sikhism is practiced primarily in Gurudwara at...</td>\n",
              "      <td>About how many Christian houses of worship exi...</td>\n",
              "    </tr>\n",
              "    <tr>\n",
              "      <th>87574</th>\n",
              "      <td>46</td>\n",
              "      <td>Tribhuwan</td>\n",
              "      <td>Kathmandu</td>\n",
              "      <td>Institute of Medicine, the central college of ...</td>\n",
              "      <td>Of what university is the Institute of Medicin...</td>\n",
              "    </tr>\n",
              "    <tr>\n",
              "      <th>87575</th>\n",
              "      <td>123</td>\n",
              "      <td>Maharajgunj</td>\n",
              "      <td>Kathmandu</td>\n",
              "      <td>Institute of Medicine, the central college of ...</td>\n",
              "      <td>In what part of Kathmandu is the Institute of ...</td>\n",
              "    </tr>\n",
              "    <tr>\n",
              "      <th>87576</th>\n",
              "      <td>219</td>\n",
              "      <td>1978</td>\n",
              "      <td>Kathmandu</td>\n",
              "      <td>Institute of Medicine, the central college of ...</td>\n",
              "      <td>When did the Institute of Medicine begin to of...</td>\n",
              "    </tr>\n",
              "    <tr>\n",
              "      <th>87577</th>\n",
              "      <td>425</td>\n",
              "      <td>Kathmandu University School of Medical Sciences</td>\n",
              "      <td>Kathmandu</td>\n",
              "      <td>Institute of Medicine, the central college of ...</td>\n",
              "      <td>What does KUSMS stand for?</td>\n",
              "    </tr>\n",
              "    <tr>\n",
              "      <th>87578</th>\n",
              "      <td>377</td>\n",
              "      <td>National Academy of Medical Sciences</td>\n",
              "      <td>Kathmandu</td>\n",
              "      <td>Institute of Medicine, the central college of ...</td>\n",
              "      <td>What institution of tertiary education is know...</td>\n",
              "    </tr>\n",
              "    <tr>\n",
              "      <th>87579</th>\n",
              "      <td>0</td>\n",
              "      <td>Football</td>\n",
              "      <td>Kathmandu</td>\n",
              "      <td>Football and Cricket are the most popular spor...</td>\n",
              "      <td>Along with cricket, what sport is highly popul...</td>\n",
              "    </tr>\n",
              "    <tr>\n",
              "      <th>87580</th>\n",
              "      <td>160</td>\n",
              "      <td>All Nepal Football Association</td>\n",
              "      <td>Kathmandu</td>\n",
              "      <td>Football and Cricket are the most popular spor...</td>\n",
              "      <td>What body oversees soccer in Nepal?</td>\n",
              "    </tr>\n",
              "    <tr>\n",
              "      <th>87581</th>\n",
              "      <td>498</td>\n",
              "      <td>25,000</td>\n",
              "      <td>Kathmandu</td>\n",
              "      <td>Football and Cricket are the most popular spor...</td>\n",
              "      <td>How many people can fit in Dasarath Rangasala ...</td>\n",
              "    </tr>\n",
              "    <tr>\n",
              "      <th>87582</th>\n",
              "      <td>430</td>\n",
              "      <td>Tripureshwor</td>\n",
              "      <td>Kathmandu</td>\n",
              "      <td>Football and Cricket are the most popular spor...</td>\n",
              "      <td>In what part of Kathmandu is Dasarath Rangasal...</td>\n",
              "    </tr>\n",
              "    <tr>\n",
              "      <th>87583</th>\n",
              "      <td>628</td>\n",
              "      <td>Chinese</td>\n",
              "      <td>Kathmandu</td>\n",
              "      <td>Football and Cricket are the most popular spor...</td>\n",
              "      <td>Who assisted Nepal in renovating Dasarath Rang...</td>\n",
              "    </tr>\n",
              "    <tr>\n",
              "      <th>87584</th>\n",
              "      <td>54</td>\n",
              "      <td>17,182</td>\n",
              "      <td>Kathmandu</td>\n",
              "      <td>The total length of roads in Nepal is recorded...</td>\n",
              "      <td>As of 2004, how many kilometers of road existe...</td>\n",
              "    </tr>\n",
              "    <tr>\n",
              "      <th>87585</th>\n",
              "      <td>289</td>\n",
              "      <td>hilly terrain</td>\n",
              "      <td>Kathmandu</td>\n",
              "      <td>The total length of roads in Nepal is recorded...</td>\n",
              "      <td>Why is travel in Kathmandu mainly via automobi...</td>\n",
              "    </tr>\n",
              "    <tr>\n",
              "      <th>87586</th>\n",
              "      <td>500</td>\n",
              "      <td>BP</td>\n",
              "      <td>Kathmandu</td>\n",
              "      <td>The total length of roads in Nepal is recorded...</td>\n",
              "      <td>What highway connecting Kathmandu to elsewhere...</td>\n",
              "    </tr>\n",
              "    <tr>\n",
              "      <th>87587</th>\n",
              "      <td>457</td>\n",
              "      <td>west</td>\n",
              "      <td>Kathmandu</td>\n",
              "      <td>The total length of roads in Nepal is recorded...</td>\n",
              "      <td>In what direction out of Kathmandu does the Pr...</td>\n",
              "    </tr>\n",
              "    <tr>\n",
              "      <th>87588</th>\n",
              "      <td>466</td>\n",
              "      <td>Araniko</td>\n",
              "      <td>Kathmandu</td>\n",
              "      <td>The total length of roads in Nepal is recorded...</td>\n",
              "      <td>If one wished to travel north out of Kathmandu...</td>\n",
              "    </tr>\n",
              "    <tr>\n",
              "      <th>87589</th>\n",
              "      <td>71</td>\n",
              "      <td>Tribhuvan International Airport</td>\n",
              "      <td>Kathmandu</td>\n",
              "      <td>The main international airport serving Kathman...</td>\n",
              "      <td>What is Nepal's primary airport for internatio...</td>\n",
              "    </tr>\n",
              "    <tr>\n",
              "      <th>87590</th>\n",
              "      <td>134</td>\n",
              "      <td>6</td>\n",
              "      <td>Kathmandu</td>\n",
              "      <td>The main international airport serving Kathman...</td>\n",
              "      <td>Starting in the center of Kathmandu, how many ...</td>\n",
              "    </tr>\n",
              "    <tr>\n",
              "      <th>87591</th>\n",
              "      <td>297</td>\n",
              "      <td>22</td>\n",
              "      <td>Kathmandu</td>\n",
              "      <td>The main international airport serving Kathman...</td>\n",
              "      <td>How many airlines use Tribhuvan International ...</td>\n",
              "    </tr>\n",
              "    <tr>\n",
              "      <th>87592</th>\n",
              "      <td>698</td>\n",
              "      <td>Amsterdam</td>\n",
              "      <td>Kathmandu</td>\n",
              "      <td>The main international airport serving Kathman...</td>\n",
              "      <td>From what city does Arkefly offer nonstop flig...</td>\n",
              "    </tr>\n",
              "    <tr>\n",
              "      <th>87593</th>\n",
              "      <td>734</td>\n",
              "      <td>Turkish Airlines</td>\n",
              "      <td>Kathmandu</td>\n",
              "      <td>The main international airport serving Kathman...</td>\n",
              "      <td>Who operates flights between Kathmandu and Ist...</td>\n",
              "    </tr>\n",
              "    <tr>\n",
              "      <th>87594</th>\n",
              "      <td>229</td>\n",
              "      <td>Oregon</td>\n",
              "      <td>Kathmandu</td>\n",
              "      <td>Kathmandu Metropolitan City (KMC), in order to...</td>\n",
              "      <td>In what US state did Kathmandu first establish...</td>\n",
              "    </tr>\n",
              "    <tr>\n",
              "      <th>87595</th>\n",
              "      <td>414</td>\n",
              "      <td>Rangoon</td>\n",
              "      <td>Kathmandu</td>\n",
              "      <td>Kathmandu Metropolitan City (KMC), in order to...</td>\n",
              "      <td>What was Yangon previously known as?</td>\n",
              "    </tr>\n",
              "    <tr>\n",
              "      <th>87596</th>\n",
              "      <td>476</td>\n",
              "      <td>Minsk</td>\n",
              "      <td>Kathmandu</td>\n",
              "      <td>Kathmandu Metropolitan City (KMC), in order to...</td>\n",
              "      <td>With what Belorussian city does Kathmandu have...</td>\n",
              "    </tr>\n",
              "    <tr>\n",
              "      <th>87597</th>\n",
              "      <td>199</td>\n",
              "      <td>1975</td>\n",
              "      <td>Kathmandu</td>\n",
              "      <td>Kathmandu Metropolitan City (KMC), in order to...</td>\n",
              "      <td>In what year did Kathmandu create its initial ...</td>\n",
              "    </tr>\n",
              "    <tr>\n",
              "      <th>87598</th>\n",
              "      <td>0</td>\n",
              "      <td>Kathmandu Metropolitan City</td>\n",
              "      <td>Kathmandu</td>\n",
              "      <td>Kathmandu Metropolitan City (KMC), in order to...</td>\n",
              "      <td>What is KMC an initialism of?</td>\n",
              "    </tr>\n",
              "  </tbody>\n",
              "</table>\n",
              "<p>87599 rows × 5 columns</p>\n",
              "</div>"
            ],
            "text/plain": [
              "       answer_start                                        answer_text  \\\n",
              "0               515                         Saint Bernadette Soubirous   \n",
              "1               188                          a copper statue of Christ   \n",
              "2               279                                  the Main Building   \n",
              "3               381            a Marian place of prayer and reflection   \n",
              "4                92                 a golden statue of the Virgin Mary   \n",
              "5               248                                     September 1876   \n",
              "6               441                                              twice   \n",
              "7               598                                       The Observer   \n",
              "8               126                                              three   \n",
              "9               908                                               1987   \n",
              "10              119                                               Rome   \n",
              "11              145                                    Moreau Seminary   \n",
              "12              234                                        Old College   \n",
              "13              356                       Retired priests and brothers   \n",
              "14              675                       Buechner Prize for Preaching   \n",
              "15              487                                              eight   \n",
              "16               46                                               1920   \n",
              "17              126                             the College of Science   \n",
              "18              271                                               five   \n",
              "19              155                                          the 1870s   \n",
              "20              496                           Learning Resource Center   \n",
              "21               68                                               five   \n",
              "22              155                  The First Year of Studies program   \n",
              "23              647                           U.S. News & World Report   \n",
              "24              358                                               1924   \n",
              "25              624                                 Master of Divinity   \n",
              "26             1163                    Alliance for Catholic Education   \n",
              "27               92                                               1854   \n",
              "28              757             Department of Pre-Professional Studies   \n",
              "29                4  Joan B. Kroc Institute for International Peace...   \n",
              "...             ...                                                ...   \n",
              "87569           209                                         Gyaneshwar   \n",
              "87570           355                                                300   \n",
              "87571           427                             Shantinagar, Baneshwor   \n",
              "87572           633                                                4.2   \n",
              "87573           728                                                170   \n",
              "87574            46                                          Tribhuwan   \n",
              "87575           123                                        Maharajgunj   \n",
              "87576           219                                               1978   \n",
              "87577           425    Kathmandu University School of Medical Sciences   \n",
              "87578           377               National Academy of Medical Sciences   \n",
              "87579             0                                           Football   \n",
              "87580           160                     All Nepal Football Association   \n",
              "87581           498                                             25,000   \n",
              "87582           430                                       Tripureshwor   \n",
              "87583           628                                            Chinese   \n",
              "87584            54                                             17,182   \n",
              "87585           289                                      hilly terrain   \n",
              "87586           500                                                 BP   \n",
              "87587           457                                               west   \n",
              "87588           466                                            Araniko   \n",
              "87589            71                    Tribhuvan International Airport   \n",
              "87590           134                                                  6   \n",
              "87591           297                                                 22   \n",
              "87592           698                                          Amsterdam   \n",
              "87593           734                                   Turkish Airlines   \n",
              "87594           229                                             Oregon   \n",
              "87595           414                                            Rangoon   \n",
              "87596           476                                              Minsk   \n",
              "87597           199                                               1975   \n",
              "87598             0                        Kathmandu Metropolitan City   \n",
              "\n",
              "                  article_title  \\\n",
              "0      University_of_Notre_Dame   \n",
              "1      University_of_Notre_Dame   \n",
              "2      University_of_Notre_Dame   \n",
              "3      University_of_Notre_Dame   \n",
              "4      University_of_Notre_Dame   \n",
              "5      University_of_Notre_Dame   \n",
              "6      University_of_Notre_Dame   \n",
              "7      University_of_Notre_Dame   \n",
              "8      University_of_Notre_Dame   \n",
              "9      University_of_Notre_Dame   \n",
              "10     University_of_Notre_Dame   \n",
              "11     University_of_Notre_Dame   \n",
              "12     University_of_Notre_Dame   \n",
              "13     University_of_Notre_Dame   \n",
              "14     University_of_Notre_Dame   \n",
              "15     University_of_Notre_Dame   \n",
              "16     University_of_Notre_Dame   \n",
              "17     University_of_Notre_Dame   \n",
              "18     University_of_Notre_Dame   \n",
              "19     University_of_Notre_Dame   \n",
              "20     University_of_Notre_Dame   \n",
              "21     University_of_Notre_Dame   \n",
              "22     University_of_Notre_Dame   \n",
              "23     University_of_Notre_Dame   \n",
              "24     University_of_Notre_Dame   \n",
              "25     University_of_Notre_Dame   \n",
              "26     University_of_Notre_Dame   \n",
              "27     University_of_Notre_Dame   \n",
              "28     University_of_Notre_Dame   \n",
              "29     University_of_Notre_Dame   \n",
              "...                         ...   \n",
              "87569                 Kathmandu   \n",
              "87570                 Kathmandu   \n",
              "87571                 Kathmandu   \n",
              "87572                 Kathmandu   \n",
              "87573                 Kathmandu   \n",
              "87574                 Kathmandu   \n",
              "87575                 Kathmandu   \n",
              "87576                 Kathmandu   \n",
              "87577                 Kathmandu   \n",
              "87578                 Kathmandu   \n",
              "87579                 Kathmandu   \n",
              "87580                 Kathmandu   \n",
              "87581                 Kathmandu   \n",
              "87582                 Kathmandu   \n",
              "87583                 Kathmandu   \n",
              "87584                 Kathmandu   \n",
              "87585                 Kathmandu   \n",
              "87586                 Kathmandu   \n",
              "87587                 Kathmandu   \n",
              "87588                 Kathmandu   \n",
              "87589                 Kathmandu   \n",
              "87590                 Kathmandu   \n",
              "87591                 Kathmandu   \n",
              "87592                 Kathmandu   \n",
              "87593                 Kathmandu   \n",
              "87594                 Kathmandu   \n",
              "87595                 Kathmandu   \n",
              "87596                 Kathmandu   \n",
              "87597                 Kathmandu   \n",
              "87598                 Kathmandu   \n",
              "\n",
              "                                       paragraph_context  \\\n",
              "0      Architecturally, the school has a Catholic cha...   \n",
              "1      Architecturally, the school has a Catholic cha...   \n",
              "2      Architecturally, the school has a Catholic cha...   \n",
              "3      Architecturally, the school has a Catholic cha...   \n",
              "4      Architecturally, the school has a Catholic cha...   \n",
              "5      As at most other universities, Notre Dame's st...   \n",
              "6      As at most other universities, Notre Dame's st...   \n",
              "7      As at most other universities, Notre Dame's st...   \n",
              "8      As at most other universities, Notre Dame's st...   \n",
              "9      As at most other universities, Notre Dame's st...   \n",
              "10     The university is the major seat of the Congre...   \n",
              "11     The university is the major seat of the Congre...   \n",
              "12     The university is the major seat of the Congre...   \n",
              "13     The university is the major seat of the Congre...   \n",
              "14     The university is the major seat of the Congre...   \n",
              "15     The College of Engineering was established in ...   \n",
              "16     The College of Engineering was established in ...   \n",
              "17     The College of Engineering was established in ...   \n",
              "18     The College of Engineering was established in ...   \n",
              "19     The College of Engineering was established in ...   \n",
              "20     All of Notre Dame's undergraduate students are...   \n",
              "21     All of Notre Dame's undergraduate students are...   \n",
              "22     All of Notre Dame's undergraduate students are...   \n",
              "23     All of Notre Dame's undergraduate students are...   \n",
              "24     The university first offered graduate degrees,...   \n",
              "25     The university first offered graduate degrees,...   \n",
              "26     The university first offered graduate degrees,...   \n",
              "27     The university first offered graduate degrees,...   \n",
              "28     The university first offered graduate degrees,...   \n",
              "29     The Joan B. Kroc Institute for International P...   \n",
              "...                                                  ...   \n",
              "87569  Sikhism is practiced primarily in Gurudwara at...   \n",
              "87570  Sikhism is practiced primarily in Gurudwara at...   \n",
              "87571  Sikhism is practiced primarily in Gurudwara at...   \n",
              "87572  Sikhism is practiced primarily in Gurudwara at...   \n",
              "87573  Sikhism is practiced primarily in Gurudwara at...   \n",
              "87574  Institute of Medicine, the central college of ...   \n",
              "87575  Institute of Medicine, the central college of ...   \n",
              "87576  Institute of Medicine, the central college of ...   \n",
              "87577  Institute of Medicine, the central college of ...   \n",
              "87578  Institute of Medicine, the central college of ...   \n",
              "87579  Football and Cricket are the most popular spor...   \n",
              "87580  Football and Cricket are the most popular spor...   \n",
              "87581  Football and Cricket are the most popular spor...   \n",
              "87582  Football and Cricket are the most popular spor...   \n",
              "87583  Football and Cricket are the most popular spor...   \n",
              "87584  The total length of roads in Nepal is recorded...   \n",
              "87585  The total length of roads in Nepal is recorded...   \n",
              "87586  The total length of roads in Nepal is recorded...   \n",
              "87587  The total length of roads in Nepal is recorded...   \n",
              "87588  The total length of roads in Nepal is recorded...   \n",
              "87589  The main international airport serving Kathman...   \n",
              "87590  The main international airport serving Kathman...   \n",
              "87591  The main international airport serving Kathman...   \n",
              "87592  The main international airport serving Kathman...   \n",
              "87593  The main international airport serving Kathman...   \n",
              "87594  Kathmandu Metropolitan City (KMC), in order to...   \n",
              "87595  Kathmandu Metropolitan City (KMC), in order to...   \n",
              "87596  Kathmandu Metropolitan City (KMC), in order to...   \n",
              "87597  Kathmandu Metropolitan City (KMC), in order to...   \n",
              "87598  Kathmandu Metropolitan City (KMC), in order to...   \n",
              "\n",
              "                                                question  \n",
              "0      To whom did the Virgin Mary allegedly appear i...  \n",
              "1      What is in front of the Notre Dame Main Building?  \n",
              "2      The Basilica of the Sacred heart at Notre Dame...  \n",
              "3                      What is the Grotto at Notre Dame?  \n",
              "4      What sits on top of the Main Building at Notre...  \n",
              "5      When did the Scholastic Magazine of Notre dame...  \n",
              "6       How often is Notre Dame's the Juggler published?  \n",
              "7      What is the daily student paper at Notre Dame ...  \n",
              "8      How many student news papers are found at Notr...  \n",
              "9      In what year did the student paper Common Sens...  \n",
              "10     Where is the headquarters of the Congregation ...  \n",
              "11     What is the primary seminary of the Congregati...  \n",
              "12           What is the oldest structure at Notre Dame?  \n",
              "13     What individuals live at Fatima House at Notre...  \n",
              "14            Which prize did Frederick Buechner create?  \n",
              "15     How many BS level degrees are offered in the C...  \n",
              "16     In what year was the College of Engineering at...  \n",
              "17     Before the creation of the College of Engineer...  \n",
              "18     How many departments are within the Stinson-Re...  \n",
              "19     The College of Science began to offer civil en...  \n",
              "20     What entity provides help with the management ...  \n",
              "21     How many colleges for undergraduates are at No...  \n",
              "22     What was created at Notre Dame in 1962 to assi...  \n",
              "23     Which organization declared the First Year of ...  \n",
              "24     The granting of Doctorate degrees first occurr...  \n",
              "25                     What type of degree is an M.Div.?  \n",
              "26     Which program at Notre Dame offers a Master of...  \n",
              "27     In what year was a Master of Arts course first...  \n",
              "28     Which department at Notre Dame is the only one...  \n",
              "29     What institute at Notre Dame studies  the reas...  \n",
              "...                                                  ...  \n",
              "87569     Where can a temple of the Jain faith be found?  \n",
              "87570  Kathmandu valley is home to about how many Bah...  \n",
              "87571  Where is the Baha'i national office located in...  \n",
              "87572  About what percentage of the Nepali population...  \n",
              "87573  About how many Christian houses of worship exi...  \n",
              "87574  Of what university is the Institute of Medicin...  \n",
              "87575  In what part of Kathmandu is the Institute of ...  \n",
              "87576  When did the Institute of Medicine begin to of...  \n",
              "87577                         What does KUSMS stand for?  \n",
              "87578  What institution of tertiary education is know...  \n",
              "87579  Along with cricket, what sport is highly popul...  \n",
              "87580                What body oversees soccer in Nepal?  \n",
              "87581  How many people can fit in Dasarath Rangasala ...  \n",
              "87582  In what part of Kathmandu is Dasarath Rangasal...  \n",
              "87583  Who assisted Nepal in renovating Dasarath Rang...  \n",
              "87584  As of 2004, how many kilometers of road existe...  \n",
              "87585  Why is travel in Kathmandu mainly via automobi...  \n",
              "87586  What highway connecting Kathmandu to elsewhere...  \n",
              "87587  In what direction out of Kathmandu does the Pr...  \n",
              "87588  If one wished to travel north out of Kathmandu...  \n",
              "87589  What is Nepal's primary airport for internatio...  \n",
              "87590  Starting in the center of Kathmandu, how many ...  \n",
              "87591  How many airlines use Tribhuvan International ...  \n",
              "87592  From what city does Arkefly offer nonstop flig...  \n",
              "87593  Who operates flights between Kathmandu and Ist...  \n",
              "87594  In what US state did Kathmandu first establish...  \n",
              "87595               What was Yangon previously known as?  \n",
              "87596  With what Belorussian city does Kathmandu have...  \n",
              "87597  In what year did Kathmandu create its initial ...  \n",
              "87598                      What is KMC an initialism of?  \n",
              "\n",
              "[87599 rows x 5 columns]"
            ]
          },
          "metadata": {
            "tags": []
          },
          "execution_count": 4
        }
      ]
    },
    {
      "metadata": {
        "id": "iaaUpdrs_S19",
        "colab_type": "code",
        "colab": {}
      },
      "cell_type": "code",
      "source": [
        "\n",
        "trainingData[\"question\"] = trainingData[\"question\"].str.lower()\n",
        "trainingData[\"article_title\"] = trainingData[\"article_title\"].str.lower()\n",
        "trainingData[\"paragraph_context\"] = trainingData[\"paragraph_context\"].str.lower()\n",
        "trainingData[\"answer_text\"] = trainingData[\"answer_text\"].str.lower()\n",
        "trainingData[\"answer_start\"] = pd.to_numeric(trainingData[\"answer_start\"])"
      ],
      "execution_count": 0,
      "outputs": []
    },
    {
      "metadata": {
        "scrolled": true,
        "id": "pkJ61xyU-LjU",
        "colab_type": "code",
        "outputId": "85e6cfab-0392-452b-a528-507b0986911d",
        "colab": {
          "base_uri": "https://localhost:8080/",
          "height": 85
        }
      },
      "cell_type": "code",
      "source": [
        "from sys import getsizeof\n",
        "def summaryStatistics(series):\n",
        "    numberOfWords = series.apply(lambda x: len(str(x).split(\" \")))\n",
        "    averageNumberOfWords = sum(numberOfWords) / len(numberOfWords)\n",
        "    return \"average: \" + str(averageNumberOfWords) + \"maximum: \" + str(max(numberOfWords)) + \" minimum: \" +str(min(numberOfWords))\n",
        "print(\"Words in each question: \",summaryStatistics(trainingData[\"question\"]))\n",
        "print(\"Words in each article title: \",summaryStatistics(trainingData[\"article_title\"]))\n",
        "print(\"Words in each context: \",summaryStatistics(trainingData[\"paragraph_context\"]))\n",
        "print(\"Words in each answer: \",summaryStatistics(trainingData[\"answer_text\"]))"
      ],
      "execution_count": 6,
      "outputs": [
        {
          "output_type": "stream",
          "text": [
            "Words in each question:  average: 10.397504537723034maximum: 25601 minimum: 1\n",
            "Words in each article title:  average: 1.0maximum: 1 minimum: 1\n",
            "Words in each context:  average: 119.76870740533568maximum: 653 minimum: 20\n",
            "Words in each answer:  average: 3.1621822166919715maximum: 43 minimum: 1\n"
          ],
          "name": "stdout"
        }
      ]
    },
    {
      "metadata": {
        "scrolled": true,
        "id": "-l8jQ_mb-Lje",
        "colab_type": "code",
        "outputId": "29cee59a-2ea6-4821-d116-5a7cd2796884",
        "colab": {
          "base_uri": "https://localhost:8080/",
          "height": 34
        }
      },
      "cell_type": "code",
      "source": [
        "devData = readFile(\"dev-v1.1.json\")\n",
        "devData[\"question\"] = devData[\"question\"].str.lower()\n",
        "devData[\"article_title\"] = devData[\"article_title\"].str.lower()\n",
        "devData[\"paragraph_context\"] = devData[\"paragraph_context\"].str.lower()\n",
        "devData[\"answer_text\"] = devData[\"answer_text\"].str.lower()\n",
        "devData[\"answer_start\"] = pd.to_numeric(devData[\"answer_start\"])\n",
        "print(\"Finished loading dev data and lowering appropriate columns.\")"
      ],
      "execution_count": 7,
      "outputs": [
        {
          "output_type": "stream",
          "text": [
            "Finished loading dev data and lowering appropriate columns.\n"
          ],
          "name": "stdout"
        }
      ]
    },
    {
      "metadata": {
        "id": "sbgHB4bF-Ljm",
        "colab_type": "text"
      },
      "cell_type": "markdown",
      "source": [
        "## Assemble data into X and Y datasets."
      ]
    },
    {
      "metadata": {
        "id": "R4EkU2jV-Ljo",
        "colab_type": "code",
        "colab": {}
      },
      "cell_type": "code",
      "source": [
        "X_1_train_text = trainingData[\"question\"]\n",
        "Y_1_train_text = trainingData[\"article_title\"]\n",
        "X_2_train_text = trainingData[[\"question\",\"paragraph_context\"]]\n",
        "Y_2_train = trainingData[\"answer_start\"]"
      ],
      "execution_count": 0,
      "outputs": []
    },
    {
      "metadata": {
        "id": "I-46MEMR-Ljt",
        "colab_type": "code",
        "outputId": "c61d73d2-a165-4e33-cfaf-76717a5493ce",
        "colab": {
          "base_uri": "https://localhost:8080/",
          "height": 359
        }
      },
      "cell_type": "code",
      "source": [
        "X_2_train_text[0:10]"
      ],
      "execution_count": 9,
      "outputs": [
        {
          "output_type": "execute_result",
          "data": {
            "text/html": [
              "<div>\n",
              "<style scoped>\n",
              "    .dataframe tbody tr th:only-of-type {\n",
              "        vertical-align: middle;\n",
              "    }\n",
              "\n",
              "    .dataframe tbody tr th {\n",
              "        vertical-align: top;\n",
              "    }\n",
              "\n",
              "    .dataframe thead th {\n",
              "        text-align: right;\n",
              "    }\n",
              "</style>\n",
              "<table border=\"1\" class=\"dataframe\">\n",
              "  <thead>\n",
              "    <tr style=\"text-align: right;\">\n",
              "      <th></th>\n",
              "      <th>question</th>\n",
              "      <th>paragraph_context</th>\n",
              "    </tr>\n",
              "  </thead>\n",
              "  <tbody>\n",
              "    <tr>\n",
              "      <th>0</th>\n",
              "      <td>to whom did the virgin mary allegedly appear i...</td>\n",
              "      <td>architecturally, the school has a catholic cha...</td>\n",
              "    </tr>\n",
              "    <tr>\n",
              "      <th>1</th>\n",
              "      <td>what is in front of the notre dame main building?</td>\n",
              "      <td>architecturally, the school has a catholic cha...</td>\n",
              "    </tr>\n",
              "    <tr>\n",
              "      <th>2</th>\n",
              "      <td>the basilica of the sacred heart at notre dame...</td>\n",
              "      <td>architecturally, the school has a catholic cha...</td>\n",
              "    </tr>\n",
              "    <tr>\n",
              "      <th>3</th>\n",
              "      <td>what is the grotto at notre dame?</td>\n",
              "      <td>architecturally, the school has a catholic cha...</td>\n",
              "    </tr>\n",
              "    <tr>\n",
              "      <th>4</th>\n",
              "      <td>what sits on top of the main building at notre...</td>\n",
              "      <td>architecturally, the school has a catholic cha...</td>\n",
              "    </tr>\n",
              "    <tr>\n",
              "      <th>5</th>\n",
              "      <td>when did the scholastic magazine of notre dame...</td>\n",
              "      <td>as at most other universities, notre dame's st...</td>\n",
              "    </tr>\n",
              "    <tr>\n",
              "      <th>6</th>\n",
              "      <td>how often is notre dame's the juggler published?</td>\n",
              "      <td>as at most other universities, notre dame's st...</td>\n",
              "    </tr>\n",
              "    <tr>\n",
              "      <th>7</th>\n",
              "      <td>what is the daily student paper at notre dame ...</td>\n",
              "      <td>as at most other universities, notre dame's st...</td>\n",
              "    </tr>\n",
              "    <tr>\n",
              "      <th>8</th>\n",
              "      <td>how many student news papers are found at notr...</td>\n",
              "      <td>as at most other universities, notre dame's st...</td>\n",
              "    </tr>\n",
              "    <tr>\n",
              "      <th>9</th>\n",
              "      <td>in what year did the student paper common sens...</td>\n",
              "      <td>as at most other universities, notre dame's st...</td>\n",
              "    </tr>\n",
              "  </tbody>\n",
              "</table>\n",
              "</div>"
            ],
            "text/plain": [
              "                                            question  \\\n",
              "0  to whom did the virgin mary allegedly appear i...   \n",
              "1  what is in front of the notre dame main building?   \n",
              "2  the basilica of the sacred heart at notre dame...   \n",
              "3                  what is the grotto at notre dame?   \n",
              "4  what sits on top of the main building at notre...   \n",
              "5  when did the scholastic magazine of notre dame...   \n",
              "6   how often is notre dame's the juggler published?   \n",
              "7  what is the daily student paper at notre dame ...   \n",
              "8  how many student news papers are found at notr...   \n",
              "9  in what year did the student paper common sens...   \n",
              "\n",
              "                                   paragraph_context  \n",
              "0  architecturally, the school has a catholic cha...  \n",
              "1  architecturally, the school has a catholic cha...  \n",
              "2  architecturally, the school has a catholic cha...  \n",
              "3  architecturally, the school has a catholic cha...  \n",
              "4  architecturally, the school has a catholic cha...  \n",
              "5  as at most other universities, notre dame's st...  \n",
              "6  as at most other universities, notre dame's st...  \n",
              "7  as at most other universities, notre dame's st...  \n",
              "8  as at most other universities, notre dame's st...  \n",
              "9  as at most other universities, notre dame's st...  "
            ]
          },
          "metadata": {
            "tags": []
          },
          "execution_count": 9
        }
      ]
    },
    {
      "metadata": {
        "id": "rnvr_TCH-Lkm",
        "colab_type": "code",
        "colab": {}
      },
      "cell_type": "code",
      "source": [
        "#One-hot encode answer_starts.\n",
        "max_answer_start = int(pd.concat((trainingData[\"answer_text\"],devData[\"answer_text\"])).str.len().max())\n"
      ],
      "execution_count": 0,
      "outputs": []
    },
    {
      "metadata": {
        "id": "HKliXeyz-Lkp",
        "colab_type": "text"
      },
      "cell_type": "markdown",
      "source": [
        "### Assemble numerical data."
      ]
    },
    {
      "metadata": {
        "id": "qFF_v-v2_ZWa",
        "colab_type": "text"
      },
      "cell_type": "markdown",
      "source": [
        ""
      ]
    },
    {
      "metadata": {
        "colab_type": "text",
        "id": "ecPo0Jetse39"
      },
      "cell_type": "markdown",
      "source": [
        "### Integer encode text"
      ]
    },
    {
      "metadata": {
        "colab_type": "text",
        "id": "GCN8otUGse38"
      },
      "cell_type": "markdown",
      "source": [
        "Used for manual encoding of text into integers."
      ]
    },
    {
      "metadata": {
        "colab_type": "code",
        "id": "EJEOqRJtse36",
        "colab": {}
      },
      "cell_type": "code",
      "source": [
        "words = set()\n",
        "trainingData.applymap(lambda x: words.update(str(x).split(\" \")))\n",
        "devData.applymap(lambda x: words.update(str(x).split(\" \")))\n",
        "print(\"Finished adding words.\")"
      ],
      "execution_count": 0,
      "outputs": []
    },
    {
      "metadata": {
        "colab_type": "code",
        "id": "U2IVSDgWse33",
        "colab": {}
      },
      "cell_type": "code",
      "source": [
        "numberOfWords = len(words)\n",
        "questionTokenizer = Tokenizer()\n",
        "questionTokenizer.fit_on_texts(pd.concat((trainingData[\"question\"],devData[\"question\"])))"
      ],
      "execution_count": 0,
      "outputs": []
    },
    {
      "metadata": {
        "colab_type": "code",
        "id": "g2aJxqdzse30",
        "colab": {}
      },
      "cell_type": "code",
      "source": [
        "# Test tokenizer.\n",
        "questionTokenizer.texts_to_sequences(trainingData[\"question\"])"
      ],
      "execution_count": 0,
      "outputs": []
    },
    {
      "metadata": {
        "colab_type": "code",
        "id": "CTmb4U9wse3y",
        "colab": {}
      },
      "cell_type": "code",
      "source": [
        "# Transform questions.\n",
        "questionsTrain = np.array(pad_sequences(questionTokenizer.texts_to_sequences(trainingData[\"question\"])))\n",
        "questionsDev = np.array(pad_sequences(questionTokenizer.texts_to_sequences(devData[\"question\"]),maxlen=questionsTrain.shape[1]))\n",
        "print(type(questionsTrain[0]))\n",
        "print(questionsTrain.shape)\n",
        "print(questionsDev.shape)\n",
        "print(\"Done!\")"
      ],
      "execution_count": 0,
      "outputs": []
    },
    {
      "metadata": {
        "colab_type": "code",
        "id": "b-2G49LPse3v",
        "colab": {}
      },
      "cell_type": "code",
      "source": [
        "articleTitleTokenizer = Tokenizer()\n",
        "\n",
        "articleTitleTokenizer.fit_on_texts(pd.concat((trainingData[\"article_title\"],devData[\"article_title\"])))"
      ],
      "execution_count": 0,
      "outputs": []
    },
    {
      "metadata": {
        "colab_type": "code",
        "id": "K12AFrvIse3t",
        "colab": {}
      },
      "cell_type": "code",
      "source": [
        "# Tokenize article titles.\n",
        "articleTitleTrain = np.array(pad_sequences(articleTitleTokenizer.texts_to_sequences(trainingData[\"article_title\"])))\n",
        "articleTitleDev = np.array(pad_sequences(articleTitleTokenizer.texts_to_sequences(devData[\"article_title\"]),maxlen=articleTitleTrain.shape[1]))"
      ],
      "execution_count": 0,
      "outputs": []
    },
    {
      "metadata": {
        "colab_type": "code",
        "id": "notWR0PVse3q",
        "colab": {}
      },
      "cell_type": "code",
      "source": [
        "print(articleTitleTrain.shape)\n",
        "print(articleTitleDev.shape)"
      ],
      "execution_count": 0,
      "outputs": []
    },
    {
      "metadata": {
        "colab_type": "code",
        "id": "cMkAJFoIse3o",
        "colab": {}
      },
      "cell_type": "code",
      "source": [
        "contextTokenizer = Tokenizer()\n",
        "contextTokenizer.fit_on_texts(pd.concat((trainingData[\"paragraph_context\"],devData[\"paragraph_context\"])))"
      ],
      "execution_count": 0,
      "outputs": []
    },
    {
      "metadata": {
        "colab_type": "code",
        "id": "zOMJCKdnse3l",
        "colab": {}
      },
      "cell_type": "code",
      "source": [
        "# Transform context.\n",
        "contextTrain = np.array(pad_sequences(contextTokenizer.texts_to_sequences(trainingData[\"paragraph_context\"])))\n",
        "contextDev = np.array(pad_sequences(contextTokenizer.texts_to_sequences(devData[\"paragraph_context\"]),maxlen=contextTrain.shape[1]))"
      ],
      "execution_count": 0,
      "outputs": []
    },
    {
      "metadata": {
        "colab_type": "code",
        "id": "fvDedeq3se3i",
        "colab": {}
      },
      "cell_type": "code",
      "source": [
        "print(contextTrain.shape)\n",
        "print(contextDev.shape)"
      ],
      "execution_count": 0,
      "outputs": []
    },
    {
      "metadata": {
        "colab_type": "code",
        "id": "DEqRRcdQse3e",
        "colab": {}
      },
      "cell_type": "code",
      "source": [
        "#Transform answers.\n",
        "answersTrain = np.array(pad_sequences(contextTokenizer.texts_to_sequences(trainingData[\"answer_text\"].astype(str))))\n",
        "answersDev = np.array(pad_sequences(contextTokenizer.texts_to_sequences(devData[\"answer_text\"].astype(str)),maxlen=answersTrain.shape[1]))"
      ],
      "execution_count": 0,
      "outputs": []
    },
    {
      "metadata": {
        "colab_type": "code",
        "id": "D7QZ9oy6se3a",
        "colab": {}
      },
      "cell_type": "code",
      "source": [
        "print(answersTrain.shape)\n",
        "print(answersDev.shape)"
      ],
      "execution_count": 0,
      "outputs": []
    },
    {
      "metadata": {
        "id": "PbCioqls-Lkt",
        "colab_type": "code",
        "colab": {}
      },
      "cell_type": "code",
      "source": [
        "#Y_2_dev = answersDev\n",
        "Y_2_dev_num = tf.Session().run(tf.one_hot(devData[\"answer_start\"],max_answer_start))\n",
        "X_1_train_num = questionsTrain\n",
        "X_2_train_num = np.hstack((questionsTrain,contextTrain))\n",
        "X_1_dev_num = questionsDev\n",
        "X_2_dev_num = np.hstack((questionsDev,contextDev))\n",
        "Y_1_train_num = articleTitleTrain\n",
        "Y_1_dev_num = articleTitleDev\n",
        "\n",
        "#Y_2_train = answersTrain"
      ],
      "execution_count": 0,
      "outputs": []
    },
    {
      "metadata": {
        "id": "BGXSmR5M-Lk7",
        "colab_type": "code",
        "colab": {}
      },
      "cell_type": "code",
      "source": [
        "#Metrics\n",
        "from tensorflow.keras import backend as K\n",
        "def f1(y_true, y_pred):\n",
        "    def recall(y_true, y_pred):\n",
        "        \"\"\"Recall metric.\n",
        "\n",
        "        Only computes a batch-wise average of recall.\n",
        "\n",
        "        Computes the recall, a metric for multi-label classification of\n",
        "        how many relevant items are selected.\n",
        "        \"\"\"\n",
        "        true_positives = K.sum(K.round(K.clip(y_true * y_pred, 0, 1)))\n",
        "        possible_positives = K.sum(K.round(K.clip(y_true, 0, 1)))\n",
        "        recall = true_positives / (possible_positives + K.epsilon())\n",
        "        return recall\n",
        "\n",
        "    def precision(y_true, y_pred):\n",
        "        \"\"\"Precision metric.\n",
        "\n",
        "        Only computes a batch-wise average of precision.\n",
        "\n",
        "        Computes the precision, a metric for multi-label classification of\n",
        "        how many selected items are relevant.\n",
        "        \"\"\"\n",
        "        true_positives = K.sum(K.round(K.clip(y_true * y_pred, 0, 1)))\n",
        "        predicted_positives = K.sum(K.round(K.clip(y_pred, 0, 1)))\n",
        "        precision = true_positives / (predicted_positives + K.epsilon())\n",
        "        return precision\n",
        "    precision = precision(y_true, y_pred)\n",
        "    recall = recall(y_true, y_pred)\n",
        "    return 2*((precision*recall)/(precision+recall+K.epsilon()))"
      ],
      "execution_count": 0,
      "outputs": []
    },
    {
      "metadata": {
        "colab_type": "text",
        "id": "oq_sLBsSse3_"
      },
      "cell_type": "markdown",
      "source": [
        "## Second neural network - non-recurrent/no transfer learning"
      ]
    },
    {
      "metadata": {
        "colab_type": "text",
        "id": "IniJzW3lse3-"
      },
      "cell_type": "markdown",
      "source": [
        "This neural network is used to generate answers from the questions and articles. It works by first reading the relevant article and using the question to find the answer."
      ]
    },
    {
      "metadata": {
        "colab_type": "code",
        "id": "V7fyv6DQse3V",
        "colab": {
          "base_uri": "https://localhost:8080/",
          "height": 232
        },
        "outputId": "d7b50bfa-a350-4a88-8610-09d886464a09"
      },
      "cell_type": "code",
      "source": [
        "#Build the neural network.\n",
        "from math import log\n",
        "inputShape_second = X_2_train_num.shape[1:3]\n",
        "print(inputShape_second)\n",
        "answers_shape = Y_2_train_num.shape\n",
        "print(answers_shape[1])\n",
        "# Find the vocabulary length.\n",
        "vocabularyLength = np.concatenate((X_2_train_num,X_2_dev_num)).max() + 1"
      ],
      "execution_count": 11,
      "outputs": [
        {
          "output_type": "error",
          "ename": "NameError",
          "evalue": "ignored",
          "traceback": [
            "\u001b[0;31m---------------------------------------------------------------------------\u001b[0m",
            "\u001b[0;31mNameError\u001b[0m                                 Traceback (most recent call last)",
            "\u001b[0;32m<ipython-input-11-056fa452021a>\u001b[0m in \u001b[0;36m<module>\u001b[0;34m()\u001b[0m\n\u001b[1;32m      1\u001b[0m \u001b[0;32mfrom\u001b[0m \u001b[0mmath\u001b[0m \u001b[0;32mimport\u001b[0m \u001b[0mlog\u001b[0m\u001b[0;34m\u001b[0m\u001b[0;34m\u001b[0m\u001b[0m\n\u001b[0;32m----> 2\u001b[0;31m \u001b[0minputShape_second\u001b[0m \u001b[0;34m=\u001b[0m \u001b[0mX_2_train_num\u001b[0m\u001b[0;34m.\u001b[0m\u001b[0mshape\u001b[0m\u001b[0;34m[\u001b[0m\u001b[0;36m1\u001b[0m\u001b[0;34m:\u001b[0m\u001b[0;36m3\u001b[0m\u001b[0;34m]\u001b[0m\u001b[0;34m\u001b[0m\u001b[0;34m\u001b[0m\u001b[0m\n\u001b[0m\u001b[1;32m      3\u001b[0m \u001b[0mprint\u001b[0m\u001b[0;34m(\u001b[0m\u001b[0minputShape_second\u001b[0m\u001b[0;34m)\u001b[0m\u001b[0;34m\u001b[0m\u001b[0;34m\u001b[0m\u001b[0m\n\u001b[1;32m      4\u001b[0m \u001b[0manswers_shape\u001b[0m \u001b[0;34m=\u001b[0m \u001b[0mY_2_train_num\u001b[0m\u001b[0;34m.\u001b[0m\u001b[0mshape\u001b[0m\u001b[0;34m\u001b[0m\u001b[0;34m\u001b[0m\u001b[0m\n\u001b[1;32m      5\u001b[0m \u001b[0mprint\u001b[0m\u001b[0;34m(\u001b[0m\u001b[0manswers_shape\u001b[0m\u001b[0;34m[\u001b[0m\u001b[0;36m1\u001b[0m\u001b[0;34m]\u001b[0m\u001b[0;34m)\u001b[0m\u001b[0;34m\u001b[0m\u001b[0;34m\u001b[0m\u001b[0m\n",
            "\u001b[0;31mNameError\u001b[0m: name 'X_2_train_num' is not defined"
          ]
        }
      ]
    },
    {
      "metadata": {
        "colab_type": "code",
        "id": "Iv25QYbbse3Q",
        "colab": {}
      },
      "cell_type": "code",
      "source": [
        "questions = Input(shape=(questionsTrain.shape[1],))\n",
        "context = Input(shape=(contextTrain.shape[1],))\n",
        "embedding_1 = Embedding(vocabularyLength,16)(questions)\n",
        "#answers_network.add(Dense(16))\n",
        "flatten_1 = Flatten()(embedding_1)\n",
        "hidden = Dense(16)(Dense(8)(flatten_1))\n",
        "hidden_2 = Dense(16)(hidden)\n",
        "hidden_3 = Dense(16)(hidden_2)\n",
        "dropout = Dropout(0.45)(hidden_3)\n",
        "output = Dense(answers_shape[1],activation='softmax')(dropout)\n",
        "answers_network = Model(inputs=[questions,context],outputs=output)\n",
        "answers_network.summary()"
      ],
      "execution_count": 0,
      "outputs": []
    },
    {
      "metadata": {
        "colab_type": "code",
        "id": "eTLaKjwyse3N",
        "colab": {}
      },
      "cell_type": "code",
      "source": [
        "answers_network.compile(\"adam\",\"binary_crossentropy\",metrics=[f1])"
      ],
      "execution_count": 0,
      "outputs": []
    },
    {
      "metadata": {
        "colab_type": "text",
        "id": "OSJyJ3qxse3L"
      },
      "cell_type": "markdown",
      "source": [
        "#### Train the neural network."
      ]
    },
    {
      "metadata": {
        "colab_type": "code",
        "id": "IekQsi2Yse3J",
        "colab": {}
      },
      "cell_type": "code",
      "source": [
        "answers_network_checkpoint = ModelCheckpoint('answers_network-non-rnn-best.h5', verbose=1, monitor='val_f1',save_best_only=True, mode='auto') "
      ],
      "execution_count": 0,
      "outputs": []
    },
    {
      "metadata": {
        "colab_type": "code",
        "id": "_tWTvWxSse3F",
        "colab": {}
      },
      "cell_type": "code",
      "source": [
        "print(answers_network.metrics_names)"
      ],
      "execution_count": 0,
      "outputs": []
    },
    {
      "metadata": {
        "colab_type": "code",
        "id": "9hg2J0qBse3C",
        "colab": {}
      },
      "cell_type": "code",
      "source": [
        "\n",
        "answers_network.fit(x=[questionsTrain,contextTrain],y=Y_2_train_num,callbacks=[answers_network_checkpoint],validation_split=0.2,verbose=True,epochs=9)\n",
        "#print(\"Weights: \",questions_article_model.get_weights())"
      ],
      "execution_count": 0,
      "outputs": []
    },
    {
      "metadata": {
        "colab_type": "text",
        "id": "LWDY4xhAse3A"
      },
      "cell_type": "markdown",
      "source": [
        "#### Loading the model with best fit."
      ]
    },
    {
      "metadata": {
        "colab_type": "code",
        "id": "rEudSH2Ese29",
        "colab": {}
      },
      "cell_type": "code",
      "source": [
        "answers_network.load_weights('answers_network-non-rnn-best.h5')"
      ],
      "execution_count": 0,
      "outputs": []
    },
    {
      "metadata": {
        "colab_type": "code",
        "id": "ewsndbURse24",
        "colab": {}
      },
      "cell_type": "code",
      "source": [
        "\n",
        "answers_network.evaluate([questionsDev,contextDev],Y_2_dev_num)"
      ],
      "execution_count": 0,
      "outputs": []
    },
    {
      "metadata": {
        "id": "gT2h3iAU-LlT",
        "colab_type": "text"
      },
      "cell_type": "markdown",
      "source": [
        "## Transfer learning RNN using Google's Bert"
      ]
    },
    {
      "metadata": {
        "id": "dGUwjE61-LlU",
        "colab_type": "text"
      },
      "cell_type": "markdown",
      "source": [
        "Our model has a very poor F1 score. Let's see if we can't build a better model. We'll use Google's BERT deep learning network, which is so good that the networks with SQuaD 2.0's highest recorded F1 score use it.\n",
        "Additionally, we would like to add a Long Short-Term Memory Network, which allows our neural network to act a little bit more like a hidden Markov chain model. Such a network has been proven to provide better results overall than a simple dense neural network in a natural language processing task."
      ]
    },
    {
      "metadata": {
        "id": "lJH4yLwZ-LlX",
        "colab_type": "text"
      },
      "cell_type": "markdown",
      "source": [
        "### Downloading from TensorFlow Hub"
      ]
    },
    {
      "metadata": {
        "id": "brK4BdQE-LlY",
        "colab_type": "code",
        "colab": {}
      },
      "cell_type": "code",
      "source": [
        "import tensorflow_hub as hub\n",
        "from tensorflow.dtypes import as_string\n",
        "embedding_shape = (64,2,2)\n",
        "def embedding(x):\n",
        "    module = hub.Module(\"https://tfhub.dev/google/nnlm-en-dim128/1\")\n",
        "    return_tensor = tf.reshape(module(tf.squeeze(tf.cast(x, tf.string)),signature=\"default\", as_dict=True)[\"default\"],embedding_shape)\n",
        "    print (\"Returning tensor with shape\",return_tensor.get_shape())\n",
        "    return return_tensor"
      ],
      "execution_count": 0,
      "outputs": []
    },
    {
      "metadata": {
        "id": "svwSEHh1-Llb",
        "colab_type": "text"
      },
      "cell_type": "markdown",
      "source": [
        "\n",
        "### The neural network."
      ]
    },
    {
      "metadata": {
        "id": "y9SNLQU--Llc",
        "colab_type": "code",
        "colab": {
          "base_uri": "https://localhost:8080/",
          "height": 119
        },
        "outputId": "d7a8ab80-7d35-4ed3-e01c-f2b24c747be2"
      },
      "cell_type": "code",
      "source": [
        "\n",
        "input_questions = Input(shape=(1,), dtype=tf.string)\n",
        "input_context = Input(shape=(1,), dtype=tf.string)\n",
        "questions_embedded = Lambda(embedding,output_shape=embedding_shape)(input_questions)\n",
        "questions_rnn = LSTM(128)(questions_embedded)\n",
        "context_embedded = Lambda(embedding,output_shape=embedding_shape)(input_context)\n",
        "context_rnn = LSTM(128)(context_embedded)\n",
        "concatenate_layer = concatenate([questions_rnn,context_rnn])\n",
        "dense = Dense(16)(concatenate_layer)\n",
        "outputs = Dense(max_answer_start)(dense)\n",
        "answers_network_rnn = tf.keras.Model(inputs=[input_questions,input_context], outputs=outputs)\n",
        "\n"
      ],
      "execution_count": 23,
      "outputs": [
        {
          "output_type": "stream",
          "text": [
            "INFO:tensorflow:Saver not created because there are no variables in the graph to restore\n"
          ],
          "name": "stdout"
        },
        {
          "output_type": "stream",
          "text": [
            "I0410 05:42:49.086495 140595007182720 saver.py:1483] Saver not created because there are no variables in the graph to restore\n"
          ],
          "name": "stderr"
        },
        {
          "output_type": "stream",
          "text": [
            "Returning tensor with shape (64, 2, 2)\n",
            "INFO:tensorflow:Saver not created because there are no variables in the graph to restore\n"
          ],
          "name": "stdout"
        },
        {
          "output_type": "stream",
          "text": [
            "I0410 05:42:49.638114 140595007182720 saver.py:1483] Saver not created because there are no variables in the graph to restore\n"
          ],
          "name": "stderr"
        },
        {
          "output_type": "stream",
          "text": [
            "Returning tensor with shape (64, 2, 2)\n"
          ],
          "name": "stdout"
        }
      ]
    },
    {
      "metadata": {
        "id": "LEKhgXry-Lle",
        "colab_type": "code",
        "outputId": "4df81858-d003-4145-a058-61ab4a127179",
        "colab": {
          "base_uri": "https://localhost:8080/",
          "height": 391
        }
      },
      "cell_type": "code",
      "source": [
        "answers_network_rnn.summary()\n"
      ],
      "execution_count": 30,
      "outputs": [
        {
          "output_type": "stream",
          "text": [
            "__________________________________________________________________________________________________\n",
            "Layer (type)                    Output Shape         Param #     Connected to                     \n",
            "==================================================================================================\n",
            "input_1 (InputLayer)            (None, 1)            0                                            \n",
            "__________________________________________________________________________________________________\n",
            "input_2 (InputLayer)            (None, 1)            0                                            \n",
            "__________________________________________________________________________________________________\n",
            "lambda (Lambda)                 (None, 128)          0           input_1[0][0]                    \n",
            "__________________________________________________________________________________________________\n",
            "lambda_1 (Lambda)               (None, 128)          0           input_2[0][0]                    \n",
            "__________________________________________________________________________________________________\n",
            "concatenate (Concatenate)       (None, 256)          0           lambda[0][0]                     \n",
            "                                                                 lambda_1[0][0]                   \n",
            "__________________________________________________________________________________________________\n",
            "dense (Dense)                   (None, 16)           4112        concatenate[0][0]                \n",
            "__________________________________________________________________________________________________\n",
            "dense_1 (Dense)                 (None, 239)          4063        dense[0][0]                      \n",
            "==================================================================================================\n",
            "Total params: 8,175\n",
            "Trainable params: 8,175\n",
            "Non-trainable params: 0\n",
            "__________________________________________________________________________________________________\n"
          ],
          "name": "stdout"
        }
      ]
    },
    {
      "metadata": {
        "id": "vDLyZ09mzjD5",
        "colab_type": "code",
        "colab": {
          "base_uri": "https://localhost:8080/",
          "height": 731
        },
        "outputId": "7536ba92-598a-481e-c8c8-8832f5ac0140"
      },
      "cell_type": "code",
      "source": [
        "answers_network_rnn.compile(\"adam\",\"categorical_crossentropy\",metrics=['accuracy',f1])\n",
        "answers_network_rnn_checkpoint = ModelCheckpoint('answers_network-rnn-best.h5', verbose=1, monitor='val_f1',save_best_only=True, mode='auto')\n",
        "with tf.Session() as session:\n",
        "  session.run([tf.global_variables_initializer(), tf.tables_initializer()])\n",
        "  answers_network_rnn.fit(x=[trainingData[\"question\"].values,trainingData[\"paragraph_context\"].values],y=session.run(tf.one_hot(trainingData[\"answer_start\"],max_answer_start)))"
      ],
      "execution_count": 33,
      "outputs": [
        {
          "output_type": "stream",
          "text": [
            "78368/87599 [=========================>....] - ETA: 1s - loss: 3.9994 - acc: 0.3793 - f1: 0.0108"
          ],
          "name": "stdout"
        },
        {
          "output_type": "error",
          "ename": "KeyboardInterrupt",
          "evalue": "ignored",
          "traceback": [
            "\u001b[0;31m---------------------------------------------------------------------------\u001b[0m",
            "\u001b[0;31mKeyboardInterrupt\u001b[0m                         Traceback (most recent call last)",
            "\u001b[0;32m<ipython-input-33-11d7a08164af>\u001b[0m in \u001b[0;36m<module>\u001b[0;34m()\u001b[0m\n\u001b[1;32m      3\u001b[0m \u001b[0;32mwith\u001b[0m \u001b[0mtf\u001b[0m\u001b[0;34m.\u001b[0m\u001b[0mSession\u001b[0m\u001b[0;34m(\u001b[0m\u001b[0;34m)\u001b[0m \u001b[0;32mas\u001b[0m \u001b[0msession\u001b[0m\u001b[0;34m:\u001b[0m\u001b[0;34m\u001b[0m\u001b[0;34m\u001b[0m\u001b[0m\n\u001b[1;32m      4\u001b[0m   \u001b[0msession\u001b[0m\u001b[0;34m.\u001b[0m\u001b[0mrun\u001b[0m\u001b[0;34m(\u001b[0m\u001b[0;34m[\u001b[0m\u001b[0mtf\u001b[0m\u001b[0;34m.\u001b[0m\u001b[0mglobal_variables_initializer\u001b[0m\u001b[0;34m(\u001b[0m\u001b[0;34m)\u001b[0m\u001b[0;34m,\u001b[0m \u001b[0mtf\u001b[0m\u001b[0;34m.\u001b[0m\u001b[0mtables_initializer\u001b[0m\u001b[0;34m(\u001b[0m\u001b[0;34m)\u001b[0m\u001b[0;34m]\u001b[0m\u001b[0;34m)\u001b[0m\u001b[0;34m\u001b[0m\u001b[0;34m\u001b[0m\u001b[0m\n\u001b[0;32m----> 5\u001b[0;31m   \u001b[0manswers_network_rnn\u001b[0m\u001b[0;34m.\u001b[0m\u001b[0mfit\u001b[0m\u001b[0;34m(\u001b[0m\u001b[0mx\u001b[0m\u001b[0;34m=\u001b[0m\u001b[0;34m[\u001b[0m\u001b[0mtrainingData\u001b[0m\u001b[0;34m[\u001b[0m\u001b[0;34m\"question\"\u001b[0m\u001b[0;34m]\u001b[0m\u001b[0;34m.\u001b[0m\u001b[0mvalues\u001b[0m\u001b[0;34m,\u001b[0m\u001b[0mtrainingData\u001b[0m\u001b[0;34m[\u001b[0m\u001b[0;34m\"paragraph_context\"\u001b[0m\u001b[0;34m]\u001b[0m\u001b[0;34m.\u001b[0m\u001b[0mvalues\u001b[0m\u001b[0;34m]\u001b[0m\u001b[0;34m,\u001b[0m\u001b[0my\u001b[0m\u001b[0;34m=\u001b[0m\u001b[0msession\u001b[0m\u001b[0;34m.\u001b[0m\u001b[0mrun\u001b[0m\u001b[0;34m(\u001b[0m\u001b[0mtf\u001b[0m\u001b[0;34m.\u001b[0m\u001b[0mone_hot\u001b[0m\u001b[0;34m(\u001b[0m\u001b[0mtrainingData\u001b[0m\u001b[0;34m[\u001b[0m\u001b[0;34m\"answer_start\"\u001b[0m\u001b[0;34m]\u001b[0m\u001b[0;34m,\u001b[0m\u001b[0mmax_answer_start\u001b[0m\u001b[0;34m)\u001b[0m\u001b[0;34m)\u001b[0m\u001b[0;34m)\u001b[0m\u001b[0;34m\u001b[0m\u001b[0;34m\u001b[0m\u001b[0m\n\u001b[0m",
            "\u001b[0;32m/usr/local/lib/python3.6/dist-packages/tensorflow/python/keras/engine/training.py\u001b[0m in \u001b[0;36mfit\u001b[0;34m(self, x, y, batch_size, epochs, verbose, callbacks, validation_split, validation_data, shuffle, class_weight, sample_weight, initial_epoch, steps_per_epoch, validation_steps, max_queue_size, workers, use_multiprocessing, **kwargs)\u001b[0m\n\u001b[1;32m    878\u001b[0m           \u001b[0minitial_epoch\u001b[0m\u001b[0;34m=\u001b[0m\u001b[0minitial_epoch\u001b[0m\u001b[0;34m,\u001b[0m\u001b[0;34m\u001b[0m\u001b[0;34m\u001b[0m\u001b[0m\n\u001b[1;32m    879\u001b[0m           \u001b[0msteps_per_epoch\u001b[0m\u001b[0;34m=\u001b[0m\u001b[0msteps_per_epoch\u001b[0m\u001b[0;34m,\u001b[0m\u001b[0;34m\u001b[0m\u001b[0;34m\u001b[0m\u001b[0m\n\u001b[0;32m--> 880\u001b[0;31m           validation_steps=validation_steps)\n\u001b[0m\u001b[1;32m    881\u001b[0m \u001b[0;34m\u001b[0m\u001b[0m\n\u001b[1;32m    882\u001b[0m   def evaluate(self,\n",
            "\u001b[0;32m/usr/local/lib/python3.6/dist-packages/tensorflow/python/keras/engine/training_arrays.py\u001b[0m in \u001b[0;36mmodel_iteration\u001b[0;34m(model, inputs, targets, sample_weights, batch_size, epochs, verbose, callbacks, val_inputs, val_targets, val_sample_weights, shuffle, initial_epoch, steps_per_epoch, validation_steps, mode, validation_in_fit, **kwargs)\u001b[0m\n\u001b[1;32m    327\u001b[0m \u001b[0;34m\u001b[0m\u001b[0m\n\u001b[1;32m    328\u001b[0m         \u001b[0;31m# Get outputs.\u001b[0m\u001b[0;34m\u001b[0m\u001b[0;34m\u001b[0m\u001b[0;34m\u001b[0m\u001b[0m\n\u001b[0;32m--> 329\u001b[0;31m         \u001b[0mbatch_outs\u001b[0m \u001b[0;34m=\u001b[0m \u001b[0mf\u001b[0m\u001b[0;34m(\u001b[0m\u001b[0mins_batch\u001b[0m\u001b[0;34m)\u001b[0m\u001b[0;34m\u001b[0m\u001b[0;34m\u001b[0m\u001b[0m\n\u001b[0m\u001b[1;32m    330\u001b[0m         \u001b[0;32mif\u001b[0m \u001b[0;32mnot\u001b[0m \u001b[0misinstance\u001b[0m\u001b[0;34m(\u001b[0m\u001b[0mbatch_outs\u001b[0m\u001b[0;34m,\u001b[0m \u001b[0mlist\u001b[0m\u001b[0;34m)\u001b[0m\u001b[0;34m:\u001b[0m\u001b[0;34m\u001b[0m\u001b[0;34m\u001b[0m\u001b[0m\n\u001b[1;32m    331\u001b[0m           \u001b[0mbatch_outs\u001b[0m \u001b[0;34m=\u001b[0m \u001b[0;34m[\u001b[0m\u001b[0mbatch_outs\u001b[0m\u001b[0;34m]\u001b[0m\u001b[0;34m\u001b[0m\u001b[0;34m\u001b[0m\u001b[0m\n",
            "\u001b[0;32m/usr/local/lib/python3.6/dist-packages/tensorflow/python/keras/backend.py\u001b[0m in \u001b[0;36m__call__\u001b[0;34m(self, inputs)\u001b[0m\n\u001b[1;32m   3074\u001b[0m \u001b[0;34m\u001b[0m\u001b[0m\n\u001b[1;32m   3075\u001b[0m     fetched = self._callable_fn(*array_vals,\n\u001b[0;32m-> 3076\u001b[0;31m                                 run_metadata=self.run_metadata)\n\u001b[0m\u001b[1;32m   3077\u001b[0m     \u001b[0mself\u001b[0m\u001b[0;34m.\u001b[0m\u001b[0m_call_fetch_callbacks\u001b[0m\u001b[0;34m(\u001b[0m\u001b[0mfetched\u001b[0m\u001b[0;34m[\u001b[0m\u001b[0;34m-\u001b[0m\u001b[0mlen\u001b[0m\u001b[0;34m(\u001b[0m\u001b[0mself\u001b[0m\u001b[0;34m.\u001b[0m\u001b[0m_fetches\u001b[0m\u001b[0;34m)\u001b[0m\u001b[0;34m:\u001b[0m\u001b[0;34m]\u001b[0m\u001b[0;34m)\u001b[0m\u001b[0;34m\u001b[0m\u001b[0;34m\u001b[0m\u001b[0m\n\u001b[1;32m   3078\u001b[0m     return nest.pack_sequence_as(self._outputs_structure,\n",
            "\u001b[0;32m/usr/local/lib/python3.6/dist-packages/tensorflow/python/client/session.py\u001b[0m in \u001b[0;36m__call__\u001b[0;34m(self, *args, **kwargs)\u001b[0m\n\u001b[1;32m   1437\u001b[0m           ret = tf_session.TF_SessionRunCallable(\n\u001b[1;32m   1438\u001b[0m               \u001b[0mself\u001b[0m\u001b[0;34m.\u001b[0m\u001b[0m_session\u001b[0m\u001b[0;34m.\u001b[0m\u001b[0m_session\u001b[0m\u001b[0;34m,\u001b[0m \u001b[0mself\u001b[0m\u001b[0;34m.\u001b[0m\u001b[0m_handle\u001b[0m\u001b[0;34m,\u001b[0m \u001b[0margs\u001b[0m\u001b[0;34m,\u001b[0m \u001b[0mstatus\u001b[0m\u001b[0;34m,\u001b[0m\u001b[0;34m\u001b[0m\u001b[0;34m\u001b[0m\u001b[0m\n\u001b[0;32m-> 1439\u001b[0;31m               run_metadata_ptr)\n\u001b[0m\u001b[1;32m   1440\u001b[0m         \u001b[0;32mif\u001b[0m \u001b[0mrun_metadata\u001b[0m\u001b[0;34m:\u001b[0m\u001b[0;34m\u001b[0m\u001b[0;34m\u001b[0m\u001b[0m\n\u001b[1;32m   1441\u001b[0m           \u001b[0mproto_data\u001b[0m \u001b[0;34m=\u001b[0m \u001b[0mtf_session\u001b[0m\u001b[0;34m.\u001b[0m\u001b[0mTF_GetBuffer\u001b[0m\u001b[0;34m(\u001b[0m\u001b[0mrun_metadata_ptr\u001b[0m\u001b[0;34m)\u001b[0m\u001b[0;34m\u001b[0m\u001b[0;34m\u001b[0m\u001b[0m\n",
            "\u001b[0;31mKeyboardInterrupt\u001b[0m: "
          ]
        }
      ]
    },
    {
      "metadata": {
        "id": "ZQoF55uS-Llj",
        "colab_type": "code",
        "colab": {}
      },
      "cell_type": "code",
      "source": [
        "#Build the neural network.\n",
        "from math import log\n",
        "answers_network_rnn = Sequential()\n",
        "vocabularyLength = X_2_RNN_train.max() +1\n",
        "answers_network_rnn.add(Embedding(vocabularyLength,3,input_length=inputShape_second))\n",
        "#\n",
        "#answers_network.add(Flatten())\n",
        "answers_network_rnn.add(LSTM(16))\n",
        "answers_network_rnn.add(Dense(16))\n",
        "answers_network_rnn.add(Dense(answers_shape[1]))\n",
        "answers_network_rnn.add(Activation(\"softmax\"))\n",
        "answers_network_rnn.summary()"
      ],
      "execution_count": 0,
      "outputs": []
    },
    {
      "metadata": {
        "id": "lMIOuAG2-Llk",
        "colab_type": "code",
        "colab": {}
      },
      "cell_type": "code",
      "source": [
        "answers_network_rnn_checkpoint = ModelCheckpoint('answers_network-rnn-best.h5', verbose=1, monitor='val_f1',save_best_only=True, mode='auto') "
      ],
      "execution_count": 0,
      "outputs": []
    },
    {
      "metadata": {
        "id": "X27jP2Xt-Lll",
        "colab_type": "code",
        "colab": {}
      },
      "cell_type": "code",
      "source": [
        "answers_network_rnn.compile(\"adagrad\",\"binary_crossentropy\",metrics=['accuracy',f1])"
      ],
      "execution_count": 0,
      "outputs": []
    },
    {
      "metadata": {
        "id": "t8vdM5x5-Llm",
        "colab_type": "code",
        "colab": {}
      },
      "cell_type": "code",
      "source": [
        "answers_network_rnn.fit(X_2_train,tf.Session().run(Y_2_train),batch_size=100,callbacks=[answers_network_rnn_checkpoint],validation_split=0.2,verbose=True,epochs=4)\n"
      ],
      "execution_count": 0,
      "outputs": []
    },
    {
      "metadata": {
        "id": "-SBmk5kc-Lln",
        "colab_type": "code",
        "colab": {}
      },
      "cell_type": "code",
      "source": [
        ""
      ],
      "execution_count": 0,
      "outputs": []
    },
    {
      "metadata": {
        "id": "apCrJSMp-Llo",
        "colab_type": "code",
        "colab": {}
      },
      "cell_type": "code",
      "source": [
        ""
      ],
      "execution_count": 0,
      "outputs": []
    }
  ]
}